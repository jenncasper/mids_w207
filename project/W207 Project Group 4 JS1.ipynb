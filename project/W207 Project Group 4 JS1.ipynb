{
 "cells": [
  {
   "cell_type": "markdown",
   "metadata": {},
   "source": [
    "**Imports**"
   ]
  },
  {
   "cell_type": "code",
   "execution_count": 2,
   "metadata": {
    "collapsed": true
   },
   "outputs": [],
   "source": [
    "# This tells matplotlib not to try opening a new window for each plot.\n",
    "%matplotlib inline\n",
    "\n",
    "# Import a bunch of libraries.\n",
    "import time\n",
    "import numpy as np\n",
    "import matplotlib.pyplot as plt\n",
    "\n",
    "# Feature Selection\n",
    "from sklearn.pipeline import Pipeline, FeatureUnion\n",
    "from sklearn.decomposition import PCA\n",
    "from sklearn.feature_selection import SelectKBest\n",
    "\n",
    "# Regression\n",
    "from sklearn.svm import SVR\n",
    "from sklearn.ensemble import RandomForestRegressor\n",
    "from sklearn.linear_model import Lasso\n",
    "from sklearn.grid_search import GridSearchCV\n",
    "from sklearn.neighbors import KNeighborsRegressor\n",
    "from sklearn.linear_model import LinearRegression\n",
    "\n",
    "# Set the randomizer seed so results are the same each time.\n",
    "np.random.seed(0)"
   ]
  },
  {
   "cell_type": "markdown",
   "metadata": {},
   "source": [
    "**Loading Data**"
   ]
  },
  {
   "cell_type": "code",
   "execution_count": 9,
   "metadata": {
    "collapsed": false
   },
   "outputs": [
    {
     "name": "stdout",
     "output_type": "stream",
     "text": [
      " (200L,)\n",
      "(957L,)\n",
      "('Number of features:', 3593L)\n",
      "('Number of training examples:', 957L)\n",
      "('Number of dev examples:', 200L)\n",
      "('Number of test examples:', 727L)\n"
     ]
    }
   ],
   "source": [
    "\n",
    "# Load training data\n",
    "X = np.genfromtxt('training.csv', \n",
    "                  delimiter=',', \n",
    "                  dtype=None,\n",
    "                  skip_header = 1,\n",
    "                  usecols=range(1, 3594)) # Load columns 0 to 3594 inclusive\n",
    "\n",
    "Ca = np.genfromtxt('training.csv', \n",
    "                   delimiter=',', \n",
    "                   dtype=None,\n",
    "                   skip_header = 1,\n",
    "                   usecols=3595) # Load Mehlich-3 extractable Calcium data\n",
    "\n",
    "P = np.genfromtxt('training.csv', \n",
    "                   delimiter=',', \n",
    "                   dtype=None,\n",
    "                   skip_header = 1,\n",
    "                   usecols=3596) # Load Mehlich-3 extractable Phosphorus data\n",
    "\n",
    "pH = np.genfromtxt('training.csv', \n",
    "                   delimiter=',', \n",
    "                   dtype=None,\n",
    "                   skip_header = 1,\n",
    "                   usecols=3597) # Load pH data\n",
    "\n",
    "SOC = np.genfromtxt('training.csv', \n",
    "                    delimiter=',', \n",
    "                    dtype=None,\n",
    "                    skip_header = 1,\n",
    "                    usecols=3598) # Load Soil Organic Carbon data\n",
    "\n",
    "Sand = np.genfromtxt('training.csv', \n",
    "                     delimiter=',', \n",
    "                     dtype=None,\n",
    "                     skip_header = 1,\n",
    "                     usecols=3599) # Load Sand Content data\n",
    "\n",
    "# Each record in the training data loads as a tuple.\n",
    "# Convert it to a 2D array\n",
    "# TODO:  There's a better way to do this somewhere.\n",
    "new_X = []\n",
    "for i in range(X.shape[0]):\n",
    "    new_X.append(list(X[i]))\n",
    "X = np.array(new_X)\n",
    "\n",
    "# Shuffle the input: create a random permutation of the integers between 0 and the number of data points and apply this\n",
    "# permutation to X and Y.\n",
    "# NOTE: Each time you run this cell, you'll re-shuffle the data, resulting in a different ordering.\n",
    "#shuffle = np.random.permutation(np.arange(X.shape[0]))\n",
    "#X, Ca, P, pH, SOC, Sand = X[shuffle], Ca[shuffle], P[shuffle], pH[shuffle], SOC[shuffle], Sand[shuffle] \n",
    "\n",
    "# Define the size of the dev data set\n",
    "devSetSize = 200\n",
    "\n",
    "dev_data = X[0:devSetSize]\n",
    "dev_Ca_labels = Ca[0:devSetSize]\n",
    "dev_P_labels = P[0:devSetSize]\n",
    "dev_pH_labels = pH[0:devSetSize]\n",
    "dev_SOC_labels = SOC[0:devSetSize]\n",
    "dev_Sand_labels = Sand[0:devSetSize]\n",
    "\n",
    "dev_labels = [dev_Ca_labels, dev_P_labels, dev_pH_labels, dev_SOC_labels, dev_Sand_labels]\n",
    "\n",
    "outcome_vars = ['Ca', 'P', 'pH', 'Soc', 'Sand']\n",
    "\n",
    "train_data = X[devSetSize:]\n",
    "train_Ca_labels = Ca[devSetSize:]\n",
    "train_P_labels = P[devSetSize:]\n",
    "train_pH_labels = pH[devSetSize:]\n",
    "train_SOC_labels = SOC[devSetSize:]\n",
    "train_Sand_labels = Sand[devSetSize:]\n",
    "train_labels = [train_Ca_labels, train_P_labels, train_pH_labels, train_SOC_labels, train_Sand_labels]\n",
    "print(dev_Ca_labels.shape)\n",
    "print(train_Ca_labels.shape)\n",
    "\n",
    "\n",
    "print('Number of features:', dev_data.shape[1])\n",
    "print('Number of training examples:', train_data.shape[0])\n",
    "print('Number of dev examples:', dev_data.shape[0])\n",
    "\n",
    "#TODO: Dev / Train data have 2 string columns, the first and the last. \n",
    "#The first is an ID, and the last is a categorical with 2 possible values apparently. \n",
    "#Encode / transform these so they are useful\n",
    "\n",
    "# Load test data\n",
    "test_x = np.genfromtxt('sorted_test.csv', \n",
    "                                delimiter=',', \n",
    "                                dtype=None,\n",
    "                                skip_header = 1,\n",
    "                                usecols=range(0, 3595)) # Load columns 0 to 3594 inclusive\n",
    "\n",
    "new_test_x = []\n",
    "for i in range(test_x.shape[0]):\n",
    "    new_test_x.append(list(test_x[i]))\n",
    "test_x = np.array(new_test_x)\n",
    "\n",
    "\n",
    "print('Number of test examples:', test_x.shape[0])\n",
    "\n",
    "\n"
   ]
  },
  {
   "cell_type": "code",
   "execution_count": 12,
   "metadata": {
    "collapsed": false
   },
   "outputs": [],
   "source": [
    "# K Nearest Neighbors\n",
    "n_neighbors = 5\n",
    "knn = KNeighborsRegressor(n_neighbors)\n",
    "\n",
    "for i in range(3593):\n",
    "\n",
    "    # In order to pull just one feature (column) and use it, we have to use the reshape function. \n",
    "    train_data_i = train_data[:,i].reshape(-1,1)\n",
    "    dev_data_i = dev_data[:,i].reshape(-1,1)\n",
    "\n",
    "    knn.fit(train_data_i, train_Ca_labels)\n",
    "    rs = knn.score(dev_data_i,dev_Ca_labels)\n",
    "    if rs > 0:\n",
    "        print('column %5i :, R-squared: %3.3f' %(i,rs))\n",
    "\n"
   ]
  },
  {
   "cell_type": "code",
   "execution_count": 13,
   "metadata": {
    "collapsed": false
   },
   "outputs": [
    {
     "data": {
      "image/png": "[encoded data removed]",
      "text/plain": [
       "<matplotlib.figure.Figure at 0x229a7fd79b0>"
      ]
     },
     "metadata": {},
     "output_type": "display_data"
    }
   ],
   "source": [
    "# Linear Regression\n",
    "lm = LinearRegression()\n",
    "        \n",
    "def PlotUnivariateFitAndResids(X, Y, preds, preds_sorted):\n",
    "    plt.subplot(1, 1, 1)\n",
    "    plt.scatter(np.ravel(X), Y)\n",
    "    plt.plot(np.sort(X, 0), preds_sorted, 'r', linewidth=3.5)\n",
    "    plt.title(\"Data and Regression Line\")\n",
    "\n",
    "    #plt.subplot(1, 2, 2)\n",
    "    #resid = np.ravel(Y) - preds\n",
    "    #plt.scatter(X, resid)\n",
    "    #plt.title(\"Residual Plot\")\n",
    "\n",
    "    plt.show()\n",
    "\n",
    "## fit linear regression model\n",
    "def LinearRegressionFitAndPlot(X, Y):\n",
    "    lm = LinearRegression()\n",
    "    lm.fit(X, Y)\n",
    "    preds = lm.predict(X)\n",
    "    preds_sorted = lm.predict(np.sort(X, 0))#\n",
    "\n",
    "    PlotUnivariateFitAndResids(X, Y, preds, preds_sorted)\n",
    "\n",
    "    \n",
    "my_col = 200\n",
    "\n",
    "train_data_i = train_data[:,my_col].reshape(-1,1)\n",
    "dev_data_i = dev_data[:,my_col].reshape(-1,1)\n",
    "\n",
    "        \n",
    "LinearRegressionFitAndPlot(train_data_i, train_Sand_labels)"
   ]
  },
  {
   "cell_type": "code",
   "execution_count": 14,
   "metadata": {
    "collapsed": false,
    "scrolled": true
   },
   "outputs": [
    {
     "data": {
      "image/png": "[encoded data removed]",
      "text/plain": [
       "<matplotlib.figure.Figure at 0x229b50470f0>"
      ]
     },
     "metadata": {},
     "output_type": "display_data"
    }
   ],
   "source": [
    "# Show that each column is almost perfectly colinear\n",
    "my_col = 200\n",
    "my_colp1 = my_col + 1\n",
    "\n",
    "train_data_i = train_data[:,my_col].reshape(-1,1)\n",
    "train_data_ip1 = train_data[:,my_colp1].reshape(-1,1)\n",
    "\n",
    "        \n",
    "LinearRegressionFitAndPlot(train_data_i, train_data_ip1)\n",
    "\n",
    "\n",
    "#from statsmodels.regression.quantile_regression import QuantReg \n",
    "#from mpl_toolkits.mplot3d import Axes3D\n",
    "\n",
    "#train_data_i   = train_data[:,0].reshape(-1,1)\n",
    "#train_data_ip1 = train_data[:,3500].reshape(-1,1)\n",
    "#dev_data_i = dev_data[:,].reshape(-1,1)\n",
    "\n",
    "#plt.subplot(1,1,1)\n",
    "#plt.scatter(train_data_i,train_data_ip1)\n",
    "\n",
    "#fig = plt.figure()\n",
    "#ax = fig.add_subplot(111, projection='3d')\n",
    "#ax.scatter(train_data_i,train_data_ip1,train_Ca_labels)\n",
    "\n",
    "\n",
    "#plt.subplot(1, 2, 1) \n",
    "\n",
    "#plt.scatter(np.ravel(X), Y)\n",
    "#plt.plot(np.sort(X, 0), preds_sorted, 'r', linewidth=3.5)\n",
    "#plt.title(\"Data and Regression Line\")\n",
    "\n",
    "#plt.subplot(1, 2, 2)\n",
    "#resid = np.ravel(Y) - preds\n",
    "#plt.scatter(X, resid)\n",
    "#plt.title(\"Residual Plot\")\n",
    "\n",
    "#plt.show()"
   ]
  },
  {
   "cell_type": "markdown",
   "metadata": {},
   "source": [
    "**Feature selectors**"
   ]
  },
  {
   "cell_type": "code",
   "execution_count": 22,
   "metadata": {
    "collapsed": true
   },
   "outputs": [],
   "source": [
    "\n",
    "def getFeatureSelectors():\n",
    "     return [\n",
    "        ['kbest100', SelectKBest(k=100)],\n",
    "        ['kbest250', SelectKBest(k=250)],\n",
    "        ['pca5', PCA(n_components=5)],\n",
    "        ['pca10', PCA(n_components=10)],\n",
    "        ['pca20', PCA(n_components=20)],\n",
    "        ['pca50', PCA(n_components=50)],\n",
    "        ['pca100', PCA(n_components=100)],\n",
    "        ['pca100kbest100', FeatureUnion([(\"pca100\", PCA(n_components=100)), (\"kbest100\", SelectKBest(k=100))])]\n",
    "     ]\n"
   ]
  },
  {
   "cell_type": "markdown",
   "metadata": {},
   "source": [
    "**Classifiers**"
   ]
  },
  {
   "cell_type": "code",
   "execution_count": 24,
   "metadata": {
    "collapsed": true
   },
   "outputs": [],
   "source": [
    "\n",
    "def getClassifiers():\n",
    "     return [\n",
    "        ['KNN', KNeighborsRegressor(), {'n_neighbors':[1, 2, 3, 5, 8]}],\n",
    "        ['SVR', SVR(), {'kernel':['linear', 'sigmoid'], 'C':[0.5, 2, 13, 34, 100], 'epsilon':[0.01, 0.05, 0.25], 'shrinking':[True, False]}],\n",
    "        ['Lasso', Lasso(), {'alpha':[0.01, 0.05, 0.25, 0.9]}],\n",
    "        ['RandomForest', RandomForestRegressor(), {'n_estimators':[1, 2, 3, 5, 8]}]\n",
    "    ]\n"
   ]
  },
  {
   "cell_type": "markdown",
   "metadata": {},
   "source": [
    "**Test combinations of selectors and classifiers**"
   ]
  },
  {
   "cell_type": "code",
   "execution_count": null,
   "metadata": {
    "collapsed": false
   },
   "outputs": [
    {
     "name": "stdout",
     "output_type": "stream",
     "text": [
      "*************************************************************\n",
      "Outcome Variable: Ca\n",
      "*************************************************************\n",
      "-------------------------------------------------------\n",
      "kbest100 KNN\n",
      "KNeighborsRegressor(algorithm='auto', leaf_size=30, metric='minkowski',\n",
      "          metric_params=None, n_jobs=1, n_neighbors=8, p=2,\n",
      "          weights='uniform')\n",
      "Mean Squared Error:  [ 0.40083759]\n",
      "Score: -8.36203004946\n",
      "-------------------------------------------------------\n",
      "kbest100 SVR\n"
     ]
    }
   ],
   "source": [
    "\n",
    "\n",
    "# For each outcome variable, for each classifier and for each selector, it will obtain and print \n",
    "# the best hyperparameters and inmediately print the mean squared error.\n",
    "# Finally, after finishing the calculations, it will print the methods and score ordered by score (MSE)\n",
    "# To see what would be the final score we'd get, you can get the best MSE score for each outcome variable,\n",
    "# and calculate the average of them.\n",
    "def run():\n",
    "    \n",
    "    results = []\n",
    "    \n",
    "    for outcomeVarIndex in range(0, 5):\n",
    "        print '*************************************************************'\n",
    "        print 'Outcome Variable:', outcome_vars[outcomeVarIndex]\n",
    "        print '*************************************************************'\n",
    "\n",
    "        for selector in getFeatureSelectors():\n",
    "            for classifier in getClassifiers():\n",
    "\n",
    "                print '-------------------------------------------------------'\n",
    "                print selector[0] + ' ' + classifier[0]\n",
    "\n",
    "                selectedTrainData = selector[1].fit(train_data, train_labels[outcomeVarIndex]).transform(train_data)\n",
    "                selectedDevData = selector[1].transform(dev_data)\n",
    "\n",
    "                grid_search = GridSearchCV(classifier[1], param_grid=classifier[2])\n",
    "\n",
    "                grid_search.fit(selectedTrainData, train_labels[outcomeVarIndex])\n",
    "                print(grid_search.best_estimator_)\n",
    "\n",
    "                meanSquaredError = 0.0\n",
    "                for i in range(len(selectedDevData)):\n",
    "                    diff = grid_search.predict(selectedDevData[i].reshape(1, -1)) - dev_labels[outcomeVarIndex][i]\n",
    "                    squaredDiff = diff ** 2\n",
    "                    meanSquaredError = meanSquaredError + squaredDiff\n",
    "                    \n",
    "                meanSquaredError = meanSquaredError / float(len(selectedDevData))\n",
    "                \n",
    "                print 'Mean Squared Error: ', str(meanSquaredError)\n",
    "                print 'Score: ' + str(grid_search.score(selectedDevData, dev_labels[outcomeVarIndex]))\n",
    "                \n",
    "                results.append([selector[0], classifier[0], meanSquaredError])\n",
    "\n",
    "                                                            \n",
    "    sortedResults = sorted(results, key=lambda result: result[2], reverse=True)\n",
    "    for result in sortedResults:\n",
    "        print 'Selector: ' + result[0] + ', Classifier: ' + result[1]  + ', MeanSquaredError: ' + result[2]\n",
    "                                                            \n",
    "run()"
   ]
  },
  {
   "cell_type": "code",
   "execution_count": null,
   "metadata": {
    "collapsed": true
   },
   "outputs": [],
   "source": []
  }
 ],
 "metadata": {
  "anaconda-cloud": {},
  "kernelspec": {
   "display_name": "Python [default]",
   "language": "python",
   "name": "python2"
  },
  "language_info": {
   "codemirror_mode": {
    "name": "ipython",
    "version": 2
   },
   "file_extension": ".py",
   "mimetype": "text/x-python",
   "name": "python",
   "nbconvert_exporter": "python",
   "pygments_lexer": "ipython2",
   "version": "2.7.12"
  }
 },
 "nbformat": 4,
 "nbformat_minor": 1
}
