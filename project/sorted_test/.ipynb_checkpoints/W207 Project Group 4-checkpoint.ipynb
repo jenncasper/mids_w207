{
 "cells": [
  {
   "cell_type": "markdown",
   "metadata": {},
   "source": [
    "**Imports**"
   ]
  },
  {
   "cell_type": "code",
   "execution_count": 3,
   "metadata": {
    "collapsed": true
   },
   "outputs": [],
   "source": [
    "# This tells matplotlib not to try opening a new window for each plot.\n",
    "%matplotlib inline\n",
    "\n",
    "# Import a bunch of libraries.\n",
    "import time\n",
    "import numpy as np\n",
    "import matplotlib.pyplot as plt\n",
    "from matplotlib.ticker import MultipleLocator\n",
    "from sklearn.pipeline import Pipeline\n",
    "from sklearn.datasets import fetch_mldata\n",
    "from sklearn.metrics import confusion_matrix\n",
    "from sklearn.metrics import classification_report\n",
    "\n",
    "# Set the randomizer seed so results are the same each time.\n",
    "np.random.seed(0)"
   ]
  },
  {
   "cell_type": "markdown",
   "metadata": {},
   "source": [
    "**Loading Data**"
   ]
  },
  {
   "cell_type": "code",
   "execution_count": 34,
   "metadata": {
    "collapsed": false
   },
   "outputs": [
    {
     "name": "stdout",
     "output_type": "stream",
     "text": [
      "Number of features: 3595\n",
      "Number of predictors: 5\n",
      "Number of training examples 957\n",
      "Number of dev examples 200\n",
      "Number of test examples 727\n"
     ]
    }
   ],
   "source": [
    "\n",
    "# Load training data\n",
    "X = np.genfromtxt('training.csv', \n",
    "                                delimiter=',', \n",
    "                                dtype=None,\n",
    "                                skip_header = 1,\n",
    "                                usecols=range(0, 3595)) # Load columns 0 to 3594 inclusive\n",
    "\n",
    "Y = np.genfromtxt('training.csv', \n",
    "                                delimiter=',', \n",
    "                                dtype=None,\n",
    "                                skip_header = 1,\n",
    "                                usecols=range(3595, 3600)) # Load columns 3595 to 3599 inclusive\n",
    "\n",
    "# Shuffle the input: create a random permutation of the integers between 0 and the number of data points and apply this\n",
    "# permutation to X and Y.\n",
    "# NOTE: Each time you run this cell, you'll re-shuffle the data, resulting in a different ordering.\n",
    "shuffle = np.random.permutation(np.arange(X.shape[0]))\n",
    "X, Y = X[shuffle], Y[shuffle]\n",
    "\n",
    "# Define the size of the dev data set\n",
    "devSetSize = 200\n",
    "\n",
    "dev_x, dev_y = X[0:devSetSize], Y[0:devSetSize]\n",
    "train_x, train_y = X[devSetSize:], Y[devSetSize:]\n",
    "\n",
    "print 'Number of features:', len(dev_x[0])\n",
    "print 'Number of predictors:', len(dev_y[0])\n",
    "print 'Number of training examples:', len(train_x)\n",
    "print 'Number of dev examples:', len(dev_x)\n",
    "\n",
    "#TODO: Dev / Train data have 2 string columns, the first and the last. The first is an ID, and the last is a categorical with 2 possible values apparently. \n",
    "#Encode / transform these so they are useful\n",
    "\n",
    "# Load test data\n",
    "test_x = np.genfromtxt('sorted_test.csv', \n",
    "                                delimiter=',', \n",
    "                                dtype=None,\n",
    "                                skip_header = 1,\n",
    "                                usecols=range(0, 3595)) # Load columns 0 to 3594 inclusive\n",
    "\n",
    "\n",
    "print 'Number of test examples:', len(test_x)\n",
    "\n",
    "\n"
   ]
  },
  {
   "cell_type": "code",
   "execution_count": null,
   "metadata": {
    "collapsed": true
   },
   "outputs": [],
   "source": []
  }
 ],
 "metadata": {
  "anaconda-cloud": {},
  "kernelspec": {
   "display_name": "Python [conda env:py27]",
   "language": "python",
   "name": "conda-env-py27-py"
  },
  "language_info": {
   "codemirror_mode": {
    "name": "ipython",
    "version": 2
   },
   "file_extension": ".py",
   "mimetype": "text/x-python",
   "name": "python",
   "nbconvert_exporter": "python",
   "pygments_lexer": "ipython2",
   "version": "2.7.12"
  }
 },
 "nbformat": 4,
 "nbformat_minor": 1
}
